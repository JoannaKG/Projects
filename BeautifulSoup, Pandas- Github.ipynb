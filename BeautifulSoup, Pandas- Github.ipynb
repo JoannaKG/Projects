{
 "cells": [
  {
   "cell_type": "code",
   "execution_count": null,
   "metadata": {},
   "outputs": [],
   "source": [
    "# Import bibliotek\n",
    "import requests\n",
    "from bs4 import BeautifulSoup\n",
    "import pandas as pd\n",
    "import csv\n",
    "from time import sleep"
   ]
  },
  {
   "cell_type": "code",
   "execution_count": null,
   "metadata": {},
   "outputs": [],
   "source": [
    "# funkcja wykorzystana w kodach:\n",
    "\n",
    "def zmiana_na_float (cecha):\n",
    "    \"\"\" \n",
    "    Funkcja do zmiany danych poszczegolnych cech na float z odcięciem jednostki.\n",
    "      \n",
    "    Parametry:\n",
    "    ----------\n",
    "    cecha (str): Liczba podana jako ciąg znaków \n",
    "  \n",
    "    Wynik:\n",
    "    ------\n",
    "    float: Ciąg znaków zamieniony na float.\n",
    "    \n",
    "    Przykład:\n",
    "    ---------\n",
    "    zmiana_na_float('50,2 m2')->50.2\n",
    "      \n",
    "    \"\"\"\n",
    "    \n",
    "    return float(cecha.rsplit(' ',1)[0].replace(' ','').replace(',','.'))     #rsplit-rozdzielam po spacji, ale tylko jednej spacji licząc od końca. Jeśli w stringu będzie kilka spacji, to podzieli tylko po tej ostatniej   "
   ]
  },
  {
   "cell_type": "markdown",
   "metadata": {},
   "source": [
    "## Kod do pobrania szczegółów ogłoszeń (widocznych z poziomu strony głównej)"
   ]
  },
  {
   "cell_type": "markdown",
   "metadata": {},
   "source": [
    "- najpierw nałożyłam filtr na Otodom, jakie nieruchomosci mnie interesują ( np. wg.lokalizacji, rodzaju nieruchomości - w tym wypadku mieszkania, powierzchni itd)\n",
    "- po nałożeniu filtrów, Otodom zwrócił mi kilka stron z ogłoszeniami odpowiadającymi moim kryteriom\n",
    "- w tym kodzie zaczytam jedynie dane z pierwszej strony zwróconej przez Otodom. Są to dane widoczne z poziomu tej strony ( bez zagłębiania się w szczegóły, które można zobaczyć tylko po wejściu w konkretne oferty)\n",
    "- w dalszych kodach pobiorę dane z kolejnych stron zwróconych przez Otodom, jak również szczegółowe dane widoczne tylko po wejściu w konkretną ofertę \n"
   ]
  },
  {
   "cell_type": "code",
   "execution_count": null,
   "metadata": {},
   "outputs": [],
   "source": [
    "# pobieram pierwszą stronę z ofertami ( najpierw nałożyłam filtr na otodom i to jest link do odfiltrowanej strony)\n",
    "zawartosc = requests.get('https://www.otodom.pl/sprzedaz/mieszkanie/poznan/?search%5Bfilter_float_m%3Ato%5D=30&search%5Bfilter_enum_market%5D%5B0%5D=secondary&search%5Bdescription%5D=1&search%5Bdist%5D=0&search%5Bdistrict_id%5D=79&search%5Bsubregion_id%5D=462&search%5Bcity_id%5D=1')"
   ]
  },
  {
   "cell_type": "code",
   "execution_count": null,
   "metadata": {},
   "outputs": [],
   "source": [
    "# Tworzę obiekt BS, w którym są zawarte dane z wybranej strony www\n",
    "soup = BeautifulSoup(zawartosc.content, 'html.parser')"
   ]
  },
  {
   "cell_type": "code",
   "execution_count": null,
   "metadata": {},
   "outputs": [],
   "source": [
    "wszystkie_oferty = soup.find(class_='col-md-content section-listing__row-content') ### klasa, w ktorej są wszystskie oferty wyszukane na otodom\n",
    "wszystkie_oferty_items = wszystkie_oferty.find_all(class_=\"offer-item-details\")## klasa, w której są szczegóły poszczególnych ofert\n",
    "\n",
    "\n",
    "for item in wszystkie_oferty_items: # dla każdej cechy, którą chcę wydobyć, szukam jej klasy na stronie Otodom\n",
    "    naglowek=item.find(class_='text-nowrap hidden-xs').get_text()\n",
    "    liczba_pokoi=item.find(class_=\"offer-item-rooms hidden-xs\").get_text()\n",
    "    powierzchnia=item.find(class_=\"hidden-xs offer-item-area\").get_text()\n",
    "    cena=item.find(class_=\"offer-item-price\").get_text()\n",
    "    cena_zlm2=item.find(class_=\"hidden-xs offer-item-price-per-m\").get_text()\n",
    "    strony_www=item.find_all('a')\n",
    "    for item in strony_www:\n",
    "        adres_www=item.get('href') ## pobieram link do każdej oferty\n",
    "        \n",
    "    # poniższe cechy zamieniam na float wg.wczesniej napisanej funkcji\n",
    "    liczba_pokoi=zmiana_na_float(liczba_pokoi)\n",
    "    powierzchnia=zmiana_na_float(powierzchnia)\n",
    "    cena=zmiana_na_float(cena.strip())\n",
    "    cena_zlm2 =zmiana_na_float(cena_zlm2)\n",
    "\n",
    "    print('tytuł: ', naglowek)\n",
    "    print('liczba_pokoi: ', liczba_pokoi)\n",
    "    print('powierzchnia (m2): ', powierzchnia)\n",
    "    print('cena (zł): ', cena)\n",
    "    print('cena (zl_m2): ', cena_zlm2)\n",
    "    print(adres_www, '\\n')\n",
    "    \n",
    "    f.writerow([naglowek, liczba_pokoi,powierzchnia, cena, cena_zlm2, adres_www ]) ## zapisanie do csv"
   ]
  },
  {
   "cell_type": "code",
   "execution_count": null,
   "metadata": {},
   "outputs": [],
   "source": [
    "## zapisanie do CSV\n",
    "f = csv.writer(open('oferty_mieszkania.csv', 'w'))\n",
    "f.writerow(['tytuł', 'liczba_pokoi', 'powierzchnia','cena', 'cena_zlm2', 'adres_www' ])"
   ]
  },
  {
   "cell_type": "markdown",
   "metadata": {},
   "source": [
    "## Kod do pobrania szczegółów zawartych wewnątrz konkretnych ogłoszeń"
   ]
  },
  {
   "cell_type": "markdown",
   "metadata": {},
   "source": [
    "- najpierw nałożyłam filtr na Otodom, jakie nieruchomosci mnie interesują ( np. wg.lokalizacji, powierzchni, rodzaju nieruchomości - w tym wypadku mieszkania, itd)\n",
    "- po nałożeniu filtrów, Otodom zwrócił mi kilka stron z ogłoszeniami odpowiadającymi moim kryteriom\n",
    "- w tym kodzie zaczytam dane z pierwszej strony zwróconej przez Otodom, przy czym są to dane szczegółowe widoczne po otwarciu konkretnych oferT\n",
    "- w dalszych kodach pobiorę dane z kolejnych stron zwróconych przez Otodom"
   ]
  },
  {
   "cell_type": "code",
   "execution_count": null,
   "metadata": {},
   "outputs": [],
   "source": [
    "# pobieram pierwszą stronę z ofertami ( najpierw nałożyłam filtr na otodom i to jest link do odfiltrowanej strona)\n",
    "zawartosc = requests.get('https://www.otodom.pl/sprzedaz/mieszkanie/poznan/?search%5Bfilter_float_m%3Ato%5D=30&search%5Bfilter_enum_market%5D%5B0%5D=secondary&search%5Bdescription%5D=1&search%5Bdist%5D=0&search%5Bdistrict_id%5D=79&search%5Bsubregion_id%5D=462&search%5Bcity_id%5D=1')"
   ]
  },
  {
   "cell_type": "code",
   "execution_count": null,
   "metadata": {},
   "outputs": [],
   "source": [
    "zawartosc.status_code"
   ]
  },
  {
   "cell_type": "code",
   "execution_count": null,
   "metadata": {},
   "outputs": [],
   "source": [
    "# Tworzę obiekt BS, w którym są zawarte dane z wybranej strony www\n",
    "soup = BeautifulSoup(zawartosc.content, 'html.parser')"
   ]
  },
  {
   "cell_type": "code",
   "execution_count": null,
   "metadata": {
    "scrolled": true
   },
   "outputs": [],
   "source": [
    "# kod do zaczytania szczegółów zawartych w ofertach (przy przeglądaniu strony www widoczne są tylko po wejściu w daną ofertę)\n",
    "wszystkie_oferty = soup.find(class_='col-md-content section-listing__row-content') ### klasa, w ktorej są wszystskie oferty wyszukane na otodom\n",
    "wszystkie_oferty_items = wszystkie_oferty.find_all(class_=\"offer-item-details\")## klasa, w której są szczegóły poszczególnych ofert\n",
    "\n",
    "for item in wszystkie_oferty_items:\n",
    "    strony_www=item.find_all('a')\n",
    "    for item in strony_www:\n",
    "        adres_www=item.get('href') ## pobieram link do każdej oferty\n",
    "        zawartosc2=requests.get(adres_www)\n",
    "        soup2=BeautifulSoup(zawartosc2.content, 'html.parser')\n",
    "        szczegoly=soup2.find_all(class_='article-offer')\n",
    "        for item in szczegoly:       \n",
    "            adres=item.find(class_='address-lane').get_text()\n",
    "            powierzchnia=item.find(class_='big').get_text()\n",
    "            cena=item.find(class_=\"box-price-value\").get_text()\n",
    "            try:# piętro nie zawsze jest podane w ofercie i wówczas zwraca błąd. Aby uniknąć zatrzymania kodu, wprowadziłam try \n",
    "                pietro=item.find(class_='param_floor_no').get_text()\n",
    "            except AttributeError:\n",
    "                pietro='brak informacji'\n",
    "            liczba_pokoi=item.find(class_='room-lane').get_text()\n",
    "            opis=item.find(itemprop='description').get_text()\n",
    "\n",
    "\n",
    "        powierzchnia=zmiana_na_float(powierzchnia)   \n",
    "        cena=zmiana_na_float(cena.strip())\n",
    "        cena_zl_m2=round(cena/powierzchnia,2)\n",
    "        liczba_pokoi=[int(s) for s in liczba_pokoi.split() if s.isdigit()]\n",
    "\n",
    "\n",
    "\n",
    "    print('adres: ', adres.strip())\n",
    "    print('powierzchnia (m2): ', powierzchnia)\n",
    "    print('cena (zł): ', cena)\n",
    "    print('cena (zł/m2): ', cena_zl_m2)\n",
    "    print('pietro: ', pietro)\n",
    "    print('liczba_pokoi: ', liczba_pokoi[0])\n",
    "    print('opis: ', opis)\n",
    "    print(adres_www, '\\n')\n",
    "\n",
    "    f.writerow([adres, powierzchnia,cena, cena_zl_m2, pietro, liczba_pokoi[0], opis ]) ## zapisanie do csv\n",
    "        "
   ]
  },
  {
   "cell_type": "code",
   "execution_count": null,
   "metadata": {},
   "outputs": [],
   "source": [
    "f = csv.writer(open('oferty_mieszkania.csv', 'w'))\n",
    "f.writerow(['adres', 'powierzchnia (m2)', 'cena (zł)','Cena (zł/m2)','pietro', 'liczba_pokoi','opis' ])"
   ]
  },
  {
   "cell_type": "markdown",
   "metadata": {},
   "source": [
    "## Kod do pobrania ofert z kilku stron "
   ]
  },
  {
   "cell_type": "markdown",
   "metadata": {},
   "source": [
    "- najpierw nałożyłam filtr na Otodom, jakie nieruchomosci mnie interesują ( np. wg.lokalizacji, rodzaju nieruchomości - w tym wypadku mieszkania, powierzchni itd)\n",
    "- po nałożeniu filtrów, Otodom zwrócił mi kilka stron z ogłoszeniami odpowiadającymi moim kryteriom\n",
    "- w poprzednich kodach czytałam jedynie dane widoczne na pierwszej stronie zwrócoej przez Otodom, teraz zaczytam dane z wielu stron. Zrobię to na 2 sposoby:\n",
    "    - w pierwszym kodzie użytkownik sam będzie podawał, z ilu stron chce uzyskać dane ( np. Otodom zwróci 10 stron, a użytkownik uzna, że chce dane tylko z 2 stron). Poza tym użytkownik będzie mógł wybrać, z których stron chce otrzymać dane, wpisując linki do tych stron\n",
    "    - w drugim kodzie automatycznie zaczytam dane z wszystkich stron zwróconych przez Otodom\n",
    "- dodatkowo uporządkuję pobrane dane wyorzystując bibliotekę Pandas (do csv będą eksportowane uporządkowane dane)\n"
   ]
  },
  {
   "cell_type": "markdown",
   "metadata": {},
   "source": [
    "### Kod 1- użytkownik podaje,z których stron chce pobrać dane"
   ]
  },
  {
   "cell_type": "code",
   "execution_count": null,
   "metadata": {},
   "outputs": [],
   "source": [
    "strony=[]\n",
    "for strona in range(0,int(input(\"Podaj, ile stron chcesz przejrzeć: \"))):\n",
    "    strona=input(str(\"Wpisz pełen adres strony- cały link: \"))\n",
    "    strony.append(strona)\n",
    "    print('strony: ', strony)"
   ]
  },
  {
   "cell_type": "code",
   "execution_count": null,
   "metadata": {},
   "outputs": [],
   "source": [
    "adresy=[]\n",
    "powierzchnie=[]\n",
    "ceny=[]\n",
    "ceny_zlm2=[]\n",
    "pietra=[]\n",
    "pokoje=[]\n",
    "opisy=[]\n",
    "    \n",
    "for item in strony:\n",
    "    zawartosc = requests.get(item)\n",
    "    soup=BeautifulSoup(zawartosc.content, 'html.parser')\n",
    "    \n",
    "    wszystkie_oferty = soup.find(class_='col-md-content section-listing__row-content') ### klasa, w ktorej są wszystskie oferty\n",
    "    wszystkie_oferty_items = wszystkie_oferty.find_all(class_=\"offer-item-details\")## klasa, w której są szczegóły poszczególnych ofert\n",
    "\n",
    "    \n",
    "    for item in wszystkie_oferty_items:\n",
    "        strony_www=item.find_all('a')\n",
    "        for item in strony_www:\n",
    "            adres_www=item.get('href') ## pobieram link do każdej oferty\n",
    "            zawartosc2=requests.get(adres_www)\n",
    "            soup2=BeautifulSoup(zawartosc2.content, 'html.parser')\n",
    "            szczegoly=soup2.find_all(class_='article-offer')\n",
    "            for item in szczegoly:       \n",
    "                adres=item.find(class_='address-lane').get_text()\n",
    "                powierzchnia=item.find(class_='big').get_text()\n",
    "                cena=item.find(class_=\"box-price-value\").get_text()\n",
    "                try:# piętro nie zawsze jest podane w ofercie i wówczas zwraca błąd. Aby uniknąć zatrzymania kodu, wprowadziłam try \n",
    "                    pietro=item.find(class_='param_floor_no').get_text()\n",
    "                except AttributeError:\n",
    "                    pietro='brak informacji'\n",
    "                liczba_pokoi=item.find(class_='room-lane').get_text()\n",
    "                opis=item.find(itemprop='description').get_text()\n",
    "                sleep(1)\n",
    "\n",
    "                powierzchnia=zmiana_na_float(powierzchnia)   \n",
    "                cena=zmiana_na_float(cena.strip())\n",
    "                cena_zl_m2=round(cena/powierzchnia,2)\n",
    "                liczba_pokoi=[int(s) for s in liczba_pokoi.split() if s.isdigit()]\n",
    "\n",
    "\n",
    "                print('adres: ', adres.strip())# strip rozdziela ciąg znaków i zwraca listę \n",
    "                print('powierzchnia (m2): ', powierzchnia)\n",
    "                print('cena (zł): ', cena)\n",
    "                print('cena (zł/m2): ', cena_zl_m2)\n",
    "                print('pietro: ', pietro)\n",
    "                print('liczba_pokoi: ', liczba_pokoi[0])\n",
    "                print('opis: ', opis)\n",
    "                print(adres_www, '\\n')\n",
    "\n",
    "                # zapisuję wyciągnięte dane do takiej postaci, abym mogła je dalej zapisać w Pandasie\n",
    "                adresy.append(adres.strip())\n",
    "                powierzchnie.append(powierzchnia)\n",
    "                ceny.append(cena)\n",
    "                ceny_zlm2.append(cena_zl_m2)\n",
    "                pietra.append(pietro)\n",
    "                pokoje.append(liczba_pokoi[0])\n",
    "                opisy.append(opis)\n"
   ]
  },
  {
   "cell_type": "markdown",
   "metadata": {},
   "source": [
    "### Obróbka  danych - Pandas"
   ]
  },
  {
   "cell_type": "code",
   "execution_count": 23,
   "metadata": {},
   "outputs": [],
   "source": [
    "# data frame 'oferty' zawiera szczegóły pobrane ze strony Otodom. Dalej będę edytować dane w tabeli, aby były one przedstawione w bardziej przejrzysty sposob\n",
    "oferty=pd.DataFrame({'adres':adresy,\n",
    "                               'powierzchnia (m2)':powierzchnie,\n",
    "                                'cena (zł)':ceny,\n",
    "                                'Cena (zł/m2)':ceny_zlm2,\n",
    "                                'pietro':pietra, \n",
    "                                'liczba_pokoi':pokoje,\n",
    "                                'opis': opisy})"
   ]
  },
  {
   "cell_type": "code",
   "execution_count": 24,
   "metadata": {},
   "outputs": [
    {
     "data": {
      "text/html": [
       "<div>\n",
       "<style scoped>\n",
       "    .dataframe tbody tr th:only-of-type {\n",
       "        vertical-align: middle;\n",
       "    }\n",
       "\n",
       "    .dataframe tbody tr th {\n",
       "        vertical-align: top;\n",
       "    }\n",
       "\n",
       "    .dataframe thead th {\n",
       "        text-align: right;\n",
       "    }\n",
       "</style>\n",
       "<table border=\"1\" class=\"dataframe\">\n",
       "  <thead>\n",
       "    <tr style=\"text-align: right;\">\n",
       "      <th></th>\n",
       "      <th>adres</th>\n",
       "      <th>powierzchnia (m2)</th>\n",
       "      <th>cena (zł)</th>\n",
       "      <th>Cena (zł/m2)</th>\n",
       "      <th>pietro</th>\n",
       "      <th>liczba_pokoi</th>\n",
       "      <th>opis</th>\n",
       "    </tr>\n",
       "  </thead>\n",
       "  <tbody>\n",
       "    <tr>\n",
       "      <th>0</th>\n",
       "      <td>Mieszkanie na sprzedaż, wielkopolskie, Poznań,...</td>\n",
       "      <td>28.80</td>\n",
       "      <td>184900.0</td>\n",
       "      <td>6420.14</td>\n",
       "      <td>Piętro 4 (z 5)</td>\n",
       "      <td>1</td>\n",
       "      <td>\\nIDEALNA OFERTA POD INWESTYCJĘ. KAMIENICA W T...</td>\n",
       "    </tr>\n",
       "    <tr>\n",
       "      <th>1</th>\n",
       "      <td>Mieszkanie na sprzedaż, wielkopolskie, Poznań,...</td>\n",
       "      <td>29.21</td>\n",
       "      <td>216154.0</td>\n",
       "      <td>7400.00</td>\n",
       "      <td>Piętro 4 (z 4)</td>\n",
       "      <td>2</td>\n",
       "      <td>\\nKamienica o charakterze hotelowym . Mieszkan...</td>\n",
       "    </tr>\n",
       "    <tr>\n",
       "      <th>2</th>\n",
       "      <td>Mieszkanie na sprzedaż, wielkopolskie, Poznań,...</td>\n",
       "      <td>27.00</td>\n",
       "      <td>229000.0</td>\n",
       "      <td>8481.48</td>\n",
       "      <td>Piętro 4 (z 4)</td>\n",
       "      <td>1</td>\n",
       "      <td>\\nWitam, mam na imię Agata i w biurze nierucho...</td>\n",
       "    </tr>\n",
       "    <tr>\n",
       "      <th>3</th>\n",
       "      <td>Mieszkanie na sprzedaż, wielkopolskie, Poznań,...</td>\n",
       "      <td>27.00</td>\n",
       "      <td>199000.0</td>\n",
       "      <td>7370.37</td>\n",
       "      <td>Piętro parter (z 4)</td>\n",
       "      <td>1</td>\n",
       "      <td>\\nWitam, mam na imię Agata i w biurze nierucho...</td>\n",
       "    </tr>\n",
       "    <tr>\n",
       "      <th>4</th>\n",
       "      <td>Mieszkanie na sprzedaż, wielkopolskie, Poznań,...</td>\n",
       "      <td>27.00</td>\n",
       "      <td>215000.0</td>\n",
       "      <td>7962.96</td>\n",
       "      <td>Piętro 4 (z 4)</td>\n",
       "      <td>1</td>\n",
       "      <td>\\nKupując z pośrednikiem - kupujesz bezpieczni...</td>\n",
       "    </tr>\n",
       "  </tbody>\n",
       "</table>\n",
       "</div>"
      ],
      "text/plain": [
       "                                               adres  powierzchnia (m2)  \\\n",
       "0  Mieszkanie na sprzedaż, wielkopolskie, Poznań,...              28.80   \n",
       "1  Mieszkanie na sprzedaż, wielkopolskie, Poznań,...              29.21   \n",
       "2  Mieszkanie na sprzedaż, wielkopolskie, Poznań,...              27.00   \n",
       "3  Mieszkanie na sprzedaż, wielkopolskie, Poznań,...              27.00   \n",
       "4  Mieszkanie na sprzedaż, wielkopolskie, Poznań,...              27.00   \n",
       "\n",
       "   cena (zł)  Cena (zł/m2)               pietro  liczba_pokoi  \\\n",
       "0   184900.0       6420.14       Piętro 4 (z 5)             1   \n",
       "1   216154.0       7400.00       Piętro 4 (z 4)             2   \n",
       "2   229000.0       8481.48       Piętro 4 (z 4)             1   \n",
       "3   199000.0       7370.37  Piętro parter (z 4)             1   \n",
       "4   215000.0       7962.96       Piętro 4 (z 4)             1   \n",
       "\n",
       "                                                opis  \n",
       "0  \\nIDEALNA OFERTA POD INWESTYCJĘ. KAMIENICA W T...  \n",
       "1  \\nKamienica o charakterze hotelowym . Mieszkan...  \n",
       "2  \\nWitam, mam na imię Agata i w biurze nierucho...  \n",
       "3  \\nWitam, mam na imię Agata i w biurze nierucho...  \n",
       "4  \\nKupując z pośrednikiem - kupujesz bezpieczni...  "
      ]
     },
     "execution_count": 24,
     "metadata": {},
     "output_type": "execute_result"
    }
   ],
   "source": [
    "oferty.head()"
   ]
  },
  {
   "cell_type": "code",
   "execution_count": 25,
   "metadata": {},
   "outputs": [],
   "source": [
    "# w kolumnie 'adres' mam string z danymi typu:rodzaj nieruchomosci, wojewodztwo, miasto, dzielnica itd.\n",
    "# rozdzielam kolumnę 'adres' tak, aby każdy rodzaj danych znalazł się  w oddzielnej kolumnie. Jednocześnie zachowuję dane z pozostałych kolumn\n",
    "mieszkania_oferty = pd.concat([oferty['adres'].apply(lambda x: pd.Series(str(x).split(','))),\\\n",
    "                     oferty['powierzchnia (m2)'],\\\n",
    "                     oferty['cena (zł)'],\\\n",
    "                     oferty['Cena (zł/m2)'],\\\n",
    "                     oferty['pietro'],\\\n",
    "                     oferty['liczba_pokoi'],\\\n",
    "                     oferty['opis']                \n",
    "                    ],axis=1,ignore_index=True)\n",
    "nazwy_kolumn = ['nieruchomosc', 'wojewodztwo', 'miasto', 'dzielnica', 'ulica', 'reszta_inf', 'powierzchnia (m2)','cena (zł)', 'Cena (zł/m2)', 'pietro', 'liczba_pokoi', 'opis']\n",
    "mieszkania_oferty.columns=nazwy_kolumn"
   ]
  },
  {
   "cell_type": "code",
   "execution_count": 26,
   "metadata": {
    "scrolled": true
   },
   "outputs": [],
   "source": [
    "# usuwam kolumnę 'reszta_inf', ponieważ powtarzają się w niej dane zawarte w poprzedzających kolumnach\n",
    "mieszkania_oferty.drop(['reszta_inf'], axis=1, inplace=True)"
   ]
  },
  {
   "cell_type": "code",
   "execution_count": 27,
   "metadata": {},
   "outputs": [],
   "source": [
    "#usuwam wyraz'Piętro' z kolumny 'pietro'\n",
    "mieszkania_oferty['pietro']=mieszkania_oferty['pietro'].apply(lambda x: x.replace('Piętro',''))"
   ]
  },
  {
   "cell_type": "code",
   "execution_count": 28,
   "metadata": {},
   "outputs": [],
   "source": [
    "# usuwam '\\nPoznań' z kolumny 'ulica'\n",
    "mieszkania_oferty['ulica']=mieszkania_oferty['ulica'].apply(lambda x: x.replace('\\nPoznań',''))"
   ]
  },
  {
   "cell_type": "code",
   "execution_count": 29,
   "metadata": {},
   "outputs": [],
   "source": [
    "# usuwam '\\nPoznań' z kolumny 'dzielinca'\n",
    "mieszkania_oferty['dzielnica']=mieszkania_oferty['dzielnica'].apply(lambda x: x.replace('\\nPoznań',''))"
   ]
  },
  {
   "cell_type": "code",
   "execution_count": 34,
   "metadata": {},
   "outputs": [
    {
     "data": {
      "text/html": [
       "<div>\n",
       "<style scoped>\n",
       "    .dataframe tbody tr th:only-of-type {\n",
       "        vertical-align: middle;\n",
       "    }\n",
       "\n",
       "    .dataframe tbody tr th {\n",
       "        vertical-align: top;\n",
       "    }\n",
       "\n",
       "    .dataframe thead th {\n",
       "        text-align: right;\n",
       "    }\n",
       "</style>\n",
       "<table border=\"1\" class=\"dataframe\">\n",
       "  <thead>\n",
       "    <tr style=\"text-align: right;\">\n",
       "      <th></th>\n",
       "      <th>nieruchomosc</th>\n",
       "      <th>wojewodztwo</th>\n",
       "      <th>miasto</th>\n",
       "      <th>dzielnica</th>\n",
       "      <th>ulica</th>\n",
       "      <th>powierzchnia (m2)</th>\n",
       "      <th>cena (zł)</th>\n",
       "      <th>Cena (zł/m2)</th>\n",
       "      <th>pietro</th>\n",
       "      <th>liczba_pokoi</th>\n",
       "      <th>opis</th>\n",
       "    </tr>\n",
       "  </thead>\n",
       "  <tbody>\n",
       "    <tr>\n",
       "      <th>0</th>\n",
       "      <td>Mieszkanie na sprzedaż</td>\n",
       "      <td>wielkopolskie</td>\n",
       "      <td>Poznań</td>\n",
       "      <td>Grunwald</td>\n",
       "      <td>Głogowska</td>\n",
       "      <td>28.80</td>\n",
       "      <td>184900.0</td>\n",
       "      <td>6420.14</td>\n",
       "      <td>4 (z 5)</td>\n",
       "      <td>1</td>\n",
       "      <td>\\nIDEALNA OFERTA POD INWESTYCJĘ. KAMIENICA W T...</td>\n",
       "    </tr>\n",
       "    <tr>\n",
       "      <th>1</th>\n",
       "      <td>Mieszkanie na sprzedaż</td>\n",
       "      <td>wielkopolskie</td>\n",
       "      <td>Poznań</td>\n",
       "      <td>Łazarz</td>\n",
       "      <td>Gąsiorowskich</td>\n",
       "      <td>29.21</td>\n",
       "      <td>216154.0</td>\n",
       "      <td>7400.00</td>\n",
       "      <td>4 (z 4)</td>\n",
       "      <td>2</td>\n",
       "      <td>\\nKamienica o charakterze hotelowym . Mieszkan...</td>\n",
       "    </tr>\n",
       "    <tr>\n",
       "      <th>2</th>\n",
       "      <td>Mieszkanie na sprzedaż</td>\n",
       "      <td>wielkopolskie</td>\n",
       "      <td>Poznań</td>\n",
       "      <td>Grunwald</td>\n",
       "      <td>Swoboda</td>\n",
       "      <td>27.00</td>\n",
       "      <td>229000.0</td>\n",
       "      <td>8481.48</td>\n",
       "      <td>4 (z 4)</td>\n",
       "      <td>1</td>\n",
       "      <td>\\nWitam, mam na imię Agata i w biurze nierucho...</td>\n",
       "    </tr>\n",
       "    <tr>\n",
       "      <th>3</th>\n",
       "      <td>Mieszkanie na sprzedaż</td>\n",
       "      <td>wielkopolskie</td>\n",
       "      <td>Poznań</td>\n",
       "      <td>Grunwald</td>\n",
       "      <td>Marcelińska</td>\n",
       "      <td>27.00</td>\n",
       "      <td>199000.0</td>\n",
       "      <td>7370.37</td>\n",
       "      <td>parter (z 4)</td>\n",
       "      <td>1</td>\n",
       "      <td>\\nWitam, mam na imię Agata i w biurze nierucho...</td>\n",
       "    </tr>\n",
       "    <tr>\n",
       "      <th>4</th>\n",
       "      <td>Mieszkanie na sprzedaż</td>\n",
       "      <td>wielkopolskie</td>\n",
       "      <td>Poznań</td>\n",
       "      <td>Grunwald</td>\n",
       "      <td>ul. Grochowska</td>\n",
       "      <td>27.00</td>\n",
       "      <td>215000.0</td>\n",
       "      <td>7962.96</td>\n",
       "      <td>4 (z 4)</td>\n",
       "      <td>1</td>\n",
       "      <td>\\nKupując z pośrednikiem - kupujesz bezpieczni...</td>\n",
       "    </tr>\n",
       "    <tr>\n",
       "      <th>5</th>\n",
       "      <td>Mieszkanie na sprzedaż</td>\n",
       "      <td>wielkopolskie</td>\n",
       "      <td>Poznań</td>\n",
       "      <td>Łazarz</td>\n",
       "      <td>Łukaszewicza</td>\n",
       "      <td>29.68</td>\n",
       "      <td>270000.0</td>\n",
       "      <td>9097.04</td>\n",
       "      <td>brak informacji</td>\n",
       "      <td>1</td>\n",
       "      <td>\\nLOKAL MIESZKALNY NA SPRZEDAŻ Polecam do sprz...</td>\n",
       "    </tr>\n",
       "  </tbody>\n",
       "</table>\n",
       "</div>"
      ],
      "text/plain": [
       "             nieruchomosc     wojewodztwo   miasto  dzielnica  \\\n",
       "0  Mieszkanie na sprzedaż   wielkopolskie   Poznań   Grunwald   \n",
       "1  Mieszkanie na sprzedaż   wielkopolskie   Poznań     Łazarz   \n",
       "2  Mieszkanie na sprzedaż   wielkopolskie   Poznań   Grunwald   \n",
       "3  Mieszkanie na sprzedaż   wielkopolskie   Poznań   Grunwald   \n",
       "4  Mieszkanie na sprzedaż   wielkopolskie   Poznań   Grunwald   \n",
       "5  Mieszkanie na sprzedaż   wielkopolskie   Poznań     Łazarz   \n",
       "\n",
       "             ulica  powierzchnia (m2)  cena (zł)  Cena (zł/m2)  \\\n",
       "0        Głogowska              28.80   184900.0       6420.14   \n",
       "1    Gąsiorowskich              29.21   216154.0       7400.00   \n",
       "2          Swoboda              27.00   229000.0       8481.48   \n",
       "3      Marcelińska              27.00   199000.0       7370.37   \n",
       "4   ul. Grochowska              27.00   215000.0       7962.96   \n",
       "5     Łukaszewicza              29.68   270000.0       9097.04   \n",
       "\n",
       "            pietro  liczba_pokoi  \\\n",
       "0          4 (z 5)             1   \n",
       "1          4 (z 4)             2   \n",
       "2          4 (z 4)             1   \n",
       "3     parter (z 4)             1   \n",
       "4          4 (z 4)             1   \n",
       "5  brak informacji             1   \n",
       "\n",
       "                                                opis  \n",
       "0  \\nIDEALNA OFERTA POD INWESTYCJĘ. KAMIENICA W T...  \n",
       "1  \\nKamienica o charakterze hotelowym . Mieszkan...  \n",
       "2  \\nWitam, mam na imię Agata i w biurze nierucho...  \n",
       "3  \\nWitam, mam na imię Agata i w biurze nierucho...  \n",
       "4  \\nKupując z pośrednikiem - kupujesz bezpieczni...  \n",
       "5  \\nLOKAL MIESZKALNY NA SPRZEDAŻ Polecam do sprz...  "
      ]
     },
     "execution_count": 34,
     "metadata": {},
     "output_type": "execute_result"
    }
   ],
   "source": [
    "mieszkania_oferty.drop_duplicates(subset=['powierzchnia (m2)', 'cena (zł)','pietro','liczba_pokoi' ]).head(6)"
   ]
  },
  {
   "cell_type": "code",
   "execution_count": 35,
   "metadata": {},
   "outputs": [],
   "source": [
    "mieszkania_oferty.to_csv(r'/home/kinga/python/Web_scrapping/mieszkania_oferty.csv')"
   ]
  },
  {
   "cell_type": "code",
   "execution_count": null,
   "metadata": {},
   "outputs": [],
   "source": []
  },
  {
   "cell_type": "markdown",
   "metadata": {},
   "source": [
    "### Kod 2 - automatycznie  pobiera dane ze wszystkich stron zwróconych przez Otodom"
   ]
  },
  {
   "cell_type": "code",
   "execution_count": null,
   "metadata": {},
   "outputs": [],
   "source": [
    "\n",
    "strona='https://www.otodom.pl/sprzedaz/mieszkanie/poznan/?search%5Bfilter_float_m%3Ato%5D=50&search%5Bfilter_enum_market%5D%5B0%5D=secondary&search%5Bdescription%5D=1&search%5Bdist%5D=0&search%5Bdistrict_id%5D=87&search%5Bsubregion_id%5D=462&search%5Bcity_id%5D=1'\n",
    "strony=[strona]\n",
    "page=requests.get(strona)\n",
    "soup=BeautifulSoup(page.content, 'html.parser')\n",
    "\n",
    "cala_strona=soup.find(class_='col-md-content section-listing__row-content') # dane całej strony\n",
    "wiersz_dot_stron=cala_strona.find_all(class_='pager') # w tym jest klasa 'page-counter' i 'page_next'\n",
    "\n",
    "przycisk_przewijania_stron=cala_strona.find_all(class_='pager-next')\n",
    "\n",
    "\n",
    "for item in wiersz_dot_stron: # sprawdzam, ile stron z ogłoszeniami zostało znalezionych wg.wybranych kryteriów\n",
    "    liczba_str=item.find(class_='current').get_text()\n",
    "    print (liczba_str)\n",
    "\n",
    "\n"
   ]
  },
  {
   "cell_type": "code",
   "execution_count": null,
   "metadata": {},
   "outputs": [],
   "source": [
    "i=1\n",
    "while i in range(0,int(liczba_str)):\n",
    "        i+=1\n",
    "    \n",
    "        strony.append(strona +'&page=' + str(i))  # każda kolejna strona ma końcówkę '&page=(nr_str)' w stosunku do strony pierwszej, poczynając od '&page=2' "
   ]
  },
  {
   "cell_type": "code",
   "execution_count": null,
   "metadata": {},
   "outputs": [],
   "source": [
    "print ('strony: ', strony)"
   ]
  },
  {
   "cell_type": "code",
   "execution_count": null,
   "metadata": {},
   "outputs": [],
   "source": [
    "adresy=[]\n",
    "powierzchnie=[]\n",
    "ceny=[]\n",
    "ceny_zlm2=[]\n",
    "pietra=[]\n",
    "pokoje=[]\n",
    "opisy=[]\n",
    "    \n",
    "for item in strony:\n",
    "    page = requests.get(item)\n",
    "    soup=BeautifulSoup(page.content, 'html.parser')\n",
    "    \n",
    "    wszystkie_oferty = soup.find(class_='col-md-content section-listing__row-content') ### klasa, w ktorej są wszystskie oferty\n",
    "    wszystkie_oferty_items = wszystkie_oferty.find_all(class_=\"offer-item-details\")## klasa, w której są szczegóły poszczególnych ofert\n",
    "\n",
    "    \n",
    "    for item in wszystkie_oferty_items:\n",
    "        strony_www=item.find_all('a')\n",
    "        for item in strony_www:\n",
    "            adres_www=item.get('href') ## pobieram linka do każdej oferty\n",
    "            page2=requests.get(adres_www)\n",
    "            soup2=BeautifulSoup(page2.content, 'html.parser')\n",
    "            szczegoly=soup2.find_all(class_='article-offer')\n",
    "            for item in szczegoly:       \n",
    "                adres=item.find(class_='address-lane').get_text()\n",
    "                powierzchnia=item.find(class_='big').get_text()\n",
    "                cena=item.find(class_=\"box-price-value\").get_text()\n",
    "                try:# piętro nie zawsze jest podane w ofercie i wówczas zwraca błąd. Aby uniknąć zatrzymania kodu, wprowadziłam try \n",
    "                    pietro=item.find(class_='param_floor_no').get_text()\n",
    "                except AttributeError:\n",
    "                    pietro='brak informacji'\n",
    "                liczba_pokoi=item.find(class_='room-lane').get_text()\n",
    "                opis=item.find(itemprop='description').get_text()\n",
    "                sleep(1)\n",
    "\n",
    "                powierzchnia=zmiana_na_float(powierzchnia)   \n",
    "                cena=zmiana_na_float(cena.strip())\n",
    "                cena_zl_m2=round(cena/powierzchnia,2)\n",
    "                liczba_pokoi=[int(s) for s in liczba_pokoi.split() if s.isdigit()]\n",
    "\n",
    "\n",
    "                print('adres: ', adres.strip())\n",
    "                print('powierzchnia (m2): ', powierzchnia)\n",
    "                print('cena (zł): ', cena)\n",
    "                print('cena (zł/m2): ', cena_zl_m2)\n",
    "                print('pietro: ', pietro)\n",
    "                print('liczba_pokoi: ', liczba_pokoi[0])\n",
    "                print('opis: ', opis)\n",
    "                print(adres_www, '\\n')\n",
    "\n",
    "                # zapisuję pobrane dane do takiej postaci, abym mogła je dalej przedstawić w Pandasie\n",
    "                adresy.append(adres.strip())\n",
    "                powierzchnie.append(powierzchnia)\n",
    "                ceny.append(cena)\n",
    "                ceny_zlm2.append(cena_zl_m2)\n",
    "                pietra.append(pietro)\n",
    "                pokoje.append(liczba_pokoi[0])\n",
    "                opisy.append(opis)\n"
   ]
  },
  {
   "cell_type": "code",
   "execution_count": null,
   "metadata": {},
   "outputs": [],
   "source": [
    "oferty_wszystkie_str=pd.DataFrame({'adres':adresy,\n",
    "                               'powierzchnia (m2)':powierzchnie,\n",
    "                                'cena (zł)':ceny,\n",
    "                                'Cena (zł/m2)':ceny_zlm2,\n",
    "                                'pietro':pietra, \n",
    "                                'liczba_pokoi':pokoje,\n",
    "                                'opis': opisy})"
   ]
  },
  {
   "cell_type": "code",
   "execution_count": null,
   "metadata": {},
   "outputs": [],
   "source": [
    "oferty_wszystkie_str.to_csv(r'/home/kinga/python/web_scrapping/oferty_wszystkie.csv')"
   ]
  },
  {
   "cell_type": "code",
   "execution_count": null,
   "metadata": {},
   "outputs": [],
   "source": []
  }
 ],
 "metadata": {
  "kernelspec": {
   "display_name": "Python 3",
   "language": "python",
   "name": "python3"
  },
  "language_info": {
   "codemirror_mode": {
    "name": "ipython",
    "version": 3
   },
   "file_extension": ".py",
   "mimetype": "text/x-python",
   "name": "python",
   "nbconvert_exporter": "python",
   "pygments_lexer": "ipython3",
   "version": "3.6.5"
  }
 },
 "nbformat": 4,
 "nbformat_minor": 2
}
