{
 "cells": [
  {
   "cell_type": "code",
   "execution_count": null,
   "metadata": {},
   "outputs": [],
   "source": [
    "# Import bibliotek\n",
    "import requests\n",
    "from bs4 import BeautifulSoup\n",
    "import pandas as pd\n",
    "import csv\n",
    "from time import sleep"
   ]
  },
  {
   "cell_type": "code",
   "execution_count": null,
   "metadata": {},
   "outputs": [],
   "source": [
    "# funkcja wykorzystana w kodach:\n",
    "\n",
    "def zmiana_na_float (cecha):\n",
    "    \"\"\" \n",
    "    Funkcja do zmiany danych poszczegolnych cech na float z odcięciem jednostki.\n",
    "      \n",
    "    Parametry:\n",
    "    ----------\n",
    "    cecha (str): Liczba podana jako ciąg znaków \n",
    "  \n",
    "    Wynik:\n",
    "    ------\n",
    "    float: Ciąg znaków zamieniony na float.\n",
    "    \n",
    "    Przykład:\n",
    "    ---------\n",
    "    zmiana_na_float('50,2 m2')->50.2\n",
    "      \n",
    "    \"\"\"\n",
    "    \n",
    "    return float(cecha.rsplit(' ',1)[0].replace(' ','').replace(',','.'))     #rsplit-rozdzielam po spacji, ale tylko jednej spacji licząc od końca. Jeśli w stringu będzie kilka spacji, to podzieli tylko po tej ostatniej   "
   ]
  },
  {
   "cell_type": "markdown",
   "metadata": {},
   "source": [
    "## 1. Kod do pobrania szczegółów ogłoszeń (widocznych z poziomu strony głównej)"
   ]
  },
  {
   "cell_type": "markdown",
   "metadata": {},
   "source": [
    "- najpierw nałożyłam filtr na Otodom, jakie nieruchomosci mnie interesują ( np. wg.lokalizacji, rodzaju nieruchomości - w tym wypadku mieszkania, powierzchni itd)\n",
    "- po nałożeniu filtrów, Otodom zwrócił mi kilka stron z ogłoszeniami odpowiadającymi moim kryteriom\n",
    "- w tym kodzie zaczytam jedynie dane z pierwszej strony zwróconej przez Otodom. Są to dane widoczne z poziomu tej strony ( bez zagłębiania się w szczegóły, które można zobaczyć tylko po wejściu w konkretne oferty)\n",
    "- w dalszych kodach pobiorę dane z kolejnych stron zwróconych przez Otodom, jak również szczegółowe dane widoczne tylko po wejściu w konkretną ofertę \n"
   ]
  },
  {
   "cell_type": "code",
   "execution_count": null,
   "metadata": {},
   "outputs": [],
   "source": [
    "# pobieram pierwszą stronę z ofertami ( najpierw nałożyłam filtr na otodom i to jest link do odfiltrowanej strony)\n",
    "adres_strony=input('Podaj adres strony www: ')\n",
    "zawartosc = requests.get(adres_strony)"
   ]
  },
  {
   "cell_type": "code",
   "execution_count": null,
   "metadata": {},
   "outputs": [],
   "source": [
    "# Tworzę obiekt BS, w którym są zawarte dane z wybranej strony www\n",
    "soup = BeautifulSoup(zawartosc.content, 'html.parser')"
   ]
  },
  {
   "cell_type": "code",
   "execution_count": null,
   "metadata": {},
   "outputs": [],
   "source": [
    "f = csv.writer(open('oferty_mieszkania.csv', 'w'))"
   ]
  },
  {
   "cell_type": "code",
   "execution_count": null,
   "metadata": {},
   "outputs": [],
   "source": [
    "wszystkie_oferty = soup.find(class_='col-md-content section-listing__row-content') ### klasa, w ktorej są wszystskie oferty wyszukane na otodom\n",
    "wszystkie_oferty_items = wszystkie_oferty.find_all(class_=\"offer-item-details\")## klasa, w której są szczegóły poszczególnych ofert\n",
    "\n",
    "\n",
    "for item in wszystkie_oferty_items: # dla każdej cechy, którą chcę wydobyć, szukam jej klasy na stronie Otodom\n",
    "    naglowek=item.find(class_='text-nowrap hidden-xs').get_text()\n",
    "    liczba_pokoi=item.find(class_=\"offer-item-rooms hidden-xs\").get_text()\n",
    "    powierzchnia=item.find(class_=\"hidden-xs offer-item-area\").get_text()\n",
    "    cena=item.find(class_=\"offer-item-price\").get_text()\n",
    "    cena_zlm2=item.find(class_=\"hidden-xs offer-item-price-per-m\").get_text()\n",
    "    strony_www=item.find_all('a')\n",
    "    for item in strony_www:\n",
    "        adres_www=item.get('href') ## pobieram link do każdej oferty\n",
    "        \n",
    "    # poniższe cechy zamieniam na float wg.wczesniej napisanej funkcji\n",
    "    liczba_pokoi=zmiana_na_float(liczba_pokoi)\n",
    "    powierzchnia=zmiana_na_float(powierzchnia)\n",
    "    cena=zmiana_na_float(cena.strip())\n",
    "    cena_zlm2 =zmiana_na_float(cena_zlm2)\n",
    "\n",
    "    print('tytuł: ', naglowek)\n",
    "    print('liczba_pokoi: ', liczba_pokoi)\n",
    "    print('powierzchnia (m2): ', powierzchnia)\n",
    "    print('cena (zł): ', cena)\n",
    "    print('cena (zl_m2): ', cena_zlm2)\n",
    "    print(adres_www, '\\n')\n",
    "    \n",
    "    f.writerow([naglowek, liczba_pokoi,powierzchnia, cena, cena_zlm2, adres_www ]) ## zapisanie do csv"
   ]
  },
  {
   "cell_type": "code",
   "execution_count": null,
   "metadata": {},
   "outputs": [],
   "source": [
    "## zapisanie do CSV\n",
    "f.writerow(['tytuł', 'liczba_pokoi', 'powierzchnia','cena', 'cena_zlm2', 'adres_www' ])"
   ]
  },
  {
   "cell_type": "markdown",
   "metadata": {},
   "source": [
    "## 2. Kod do pobrania szczegółów zawartych wewnątrz konkretnych ogłoszeń"
   ]
  },
  {
   "cell_type": "markdown",
   "metadata": {},
   "source": [
    "- najpierw nałożyłam filtr na Otodom, jakie nieruchomosci mnie interesują ( np. wg.lokalizacji, powierzchni, rodzaju nieruchomości - w tym wypadku mieszkania, itd)\n",
    "- po nałożeniu filtrów, Otodom zwrócił mi kilka stron z ogłoszeniami odpowiadającymi moim kryteriom\n",
    "- w tym kodzie zaczytam dane z pierwszej strony zwróconej przez Otodom, przy czym są to dane szczegółowe widoczne po otwarciu konkretnych ofert\n",
    "- po pobraniu danych, zapisuję je do pliku w formacie CSV\n",
    "- w dalszych kodach pobiorę dane z kolejnych stron zwróconych przez Otodom"
   ]
  },
  {
   "cell_type": "code",
   "execution_count": null,
   "metadata": {},
   "outputs": [],
   "source": [
    "# pobieram pierwszą stronę z ofertami ( najpierw nałożyłam filtr na otodom i to jest link do odfiltrowanej strona)\n",
    "adres_strony=input('Podaj adres strony www: ')\n",
    "zawartosc = requests.get(adres_strony)"
   ]
  },
  {
   "cell_type": "code",
   "execution_count": null,
   "metadata": {},
   "outputs": [],
   "source": [
    "zawartosc.status_code"
   ]
  },
  {
   "cell_type": "code",
   "execution_count": null,
   "metadata": {},
   "outputs": [],
   "source": [
    "# Tworzę obiekt BS, w którym są zawarte dane z wybranej strony www\n",
    "soup = BeautifulSoup(zawartosc.content, 'html.parser')"
   ]
  },
  {
   "cell_type": "code",
   "execution_count": null,
   "metadata": {
    "scrolled": false
   },
   "outputs": [],
   "source": [
    "# kod do zaczytania szczegółów zawartych w ofertach (przy przeglądaniu strony www widoczne są tylko po wejściu w daną ofertę)\n",
    "wszystkie_oferty = soup.find(class_='col-md-content section-listing__row-content') ### klasa, w ktorej są wszystskie oferty wyszukane na otodom\n",
    "wszystkie_oferty_items = wszystkie_oferty.find_all(class_=\"offer-item-details\")## klasa, w której są szczegóły poszczególnych ofert\n",
    "\n",
    "for item in wszystkie_oferty_items:\n",
    "    strony_www=item.find_all('a')\n",
    "    for item in strony_www:\n",
    "        adres_www=item.get('href') ## pobieram link do każdej oferty\n",
    "        zawartosc2=requests.get(adres_www)\n",
    "        soup2=BeautifulSoup(zawartosc2.content, 'html.parser')\n",
    "        szczegoly=soup2.find_all(class_='article-offer')\n",
    "        for item in szczegoly:       \n",
    "            adres=item.find(class_='address-lane').get_text()\n",
    "            powierzchnia=item.find(class_='big').get_text()\n",
    "            cena=item.find(class_=\"box-price-value\").get_text()\n",
    "            try:# piętro nie zawsze jest podane w ofercie i wówczas zwraca błąd. Aby uniknąć zatrzymania kodu, wprowadziłam try \n",
    "                pietro=item.find(class_='param_floor_no').get_text()\n",
    "            except AttributeError:\n",
    "                pietro='brak informacji'\n",
    "            liczba_pokoi=item.find(class_='room-lane').get_text()\n",
    "            opis=item.find(itemprop='description').get_text()\n",
    "\n",
    "\n",
    "        powierzchnia=zmiana_na_float(powierzchnia)   \n",
    "        cena=zmiana_na_float(cena.strip())\n",
    "        cena_zl_m2=round(cena/powierzchnia,2)\n",
    "        liczba_pokoi=[int(s) for s in liczba_pokoi.split() if s.isdigit()]\n",
    "\n",
    "\n",
    "\n",
    "    print('adres: ', adres.strip())\n",
    "    print('powierzchnia (m2): ', powierzchnia)\n",
    "    print('cena (zł): ', cena)\n",
    "    print('cena (zł/m2): ', cena_zl_m2)\n",
    "    print('pietro: ', pietro)\n",
    "    print('liczba_pokoi: ', liczba_pokoi[0])\n",
    "    print('opis: ', opis)\n",
    "    print(adres_www, '\\n')\n",
    "\n",
    "    f.writerow([adres, powierzchnia,cena, cena_zl_m2, pietro, liczba_pokoi[0], opis ]) ## zapisanie do csv\n",
    "        "
   ]
  },
  {
   "cell_type": "markdown",
   "metadata": {},
   "source": [
    "##  3. Kod do pobrania ofert z kilku stron "
   ]
  },
  {
   "cell_type": "markdown",
   "metadata": {},
   "source": [
    "- najpierw nałożyłam filtr na Otodom, jakie nieruchomosci mnie interesują ( np. wg.lokalizacji, rodzaju nieruchomości - w tym wypadku mieszkania, powierzchni itd)\n",
    "- po nałożeniu filtrów, Otodom zwrócił mi kilka stron z ogłoszeniami odpowiadającymi moim kryteriom\n",
    "- w poprzednich kodach czytałam jedynie dane widoczne na pierwszej stronie zwrócoej przez Otodom, teraz zaczytam dane z wielu stron. Zrobię to na 2 sposoby:\n",
    "    - w pierwszym kodzie użytkownik sam będzie podawał, z ilu stron chce uzyskać dane ( np. Otodom zwróci 10 stron, a użytkownik uzna, że chce dane tylko z 2 stron). Poza tym użytkownik będzie mógł wybrać, z których stron chce otrzymać dane, wpisując linki do tych stron\n",
    "    - w drugim kodzie automatycznie zaczytam dane z wszystkich stron zwróconych przez Otodom\n",
    "- dodatkowo uporządkuję pobrane dane wyorzystując bibliotekę Pandas (do csv będą eksportowane uporządkowane dane)\n"
   ]
  },
  {
   "cell_type": "markdown",
   "metadata": {},
   "source": [
    "### 3a. Użytkownik podaje, z których stron chce pobrać dane"
   ]
  },
  {
   "cell_type": "code",
   "execution_count": 19,
   "metadata": {},
   "outputs": [
    {
     "name": "stdout",
     "output_type": "stream",
     "text": [
      "Podaj, ile stron chcesz przejrzeć: 1\n",
      "Wpisz pełen adres strony- cały link: https://www.otodom.pl/sprzedaz/nowe-mieszkanie/wieliczka/?search%5Bfilter_float_m%3Ato%5D=39&search%5Bdescription%5D=1&search%5Bdist%5D=0&search%5Bsubregion_id%5D=163&search%5Bcity_id%5D=569\n",
      "strony:  ['https://www.otodom.pl/sprzedaz/nowe-mieszkanie/wieliczka/?search%5Bfilter_float_m%3Ato%5D=39&search%5Bdescription%5D=1&search%5Bdist%5D=0&search%5Bsubregion_id%5D=163&search%5Bcity_id%5D=569']\n"
     ]
    }
   ],
   "source": [
    "strony=[]\n",
    "for strona in range(0,int(input(\"Podaj, ile stron chcesz przejrzeć: \"))):\n",
    "    strona=input(str(\"Wpisz pełen adres strony- cały link: \"))\n",
    "    strony.append(strona)\n",
    "    print('strony: ', strony)"
   ]
  },
  {
   "cell_type": "code",
   "execution_count": null,
   "metadata": {
    "scrolled": false
   },
   "outputs": [],
   "source": [
    "adresy=[]\n",
    "powierzchnie=[]\n",
    "ceny=[]\n",
    "ceny_zlm2=[]\n",
    "pietra=[]\n",
    "pokoje=[]\n",
    "dodatkowe=[]\n",
    "opisy=[]\n",
    "\n",
    "    \n",
    "for item in strony:\n",
    "    zawartosc = requests.get(item)\n",
    "    soup=BeautifulSoup(zawartosc.content, 'html.parser')\n",
    "    \n",
    "    wszystkie_oferty = soup.find(class_='col-md-content section-listing__row-content') ### klasa, w ktorej są wszystskie oferty\n",
    "    wszystkie_oferty_items = wszystkie_oferty.find_all(class_=\"offer-item-details\")## klasa, w której są szczegóły poszczególnych ofert\n",
    "\n",
    "    \n",
    "    for item in wszystkie_oferty_items:\n",
    "        strony_www=item.find_all('a')\n",
    "        for item in strony_www:\n",
    "            adres_www=item.get('href') ## pobieram link do każdej oferty\n",
    "            zawartosc2=requests.get(adres_www)\n",
    "            soup2=BeautifulSoup(zawartosc2.content, 'html.parser')\n",
    "            szczegoly=soup2.find_all(class_='article-offer')\n",
    "            for item in szczegoly:       \n",
    "                adres=item.find(class_='address-lane').get_text()\n",
    "                powierzchnia=item.find(class_='big').get_text()\n",
    "                cena=item.find(class_=\"box-price-value\").get_text()\n",
    "                try:# piętro nie zawsze jest podane w ofercie i wówczas zwraca błąd. Aby uniknąć zatrzymania kodu, wprowadziłam try \n",
    "                    pietro=item.find(class_='param_floor_no').get_text()\n",
    "                except AttributeError:\n",
    "                    pietro='brak informacji'\n",
    "                liczba_pokoi=item.find(class_='room-lane').get_text()\n",
    "                opis=item.find(itemprop='description').get_text()\n",
    "                dodatkowe_parametry=soup2.find_all(class_='sub-list')\n",
    "                slownik={}\n",
    "                for item in dodatkowe_parametry: \n",
    "                    wszystko=item.find_all('li')\n",
    "                    for e in wszystko:\n",
    "                        klucz,wartosc=e.text.split(':')\n",
    "                        slownik[klucz]=wartosc\n",
    "                      \n",
    "                \n",
    "\n",
    "                    powierzchnia=zmiana_na_float(powierzchnia)   \n",
    "                    cena=zmiana_na_float(cena.strip())\n",
    "                    cena_zl_m2=round(cena/powierzchnia,2)\n",
    "                    liczba_pokoi=[int(s) for s in liczba_pokoi.split() if s.isdigit()]\n",
    "                    \n",
    "\n",
    "                    print('adres: ', adres.strip())# strip rozdziela ciąg znaków i zwraca listę \n",
    "                    print('powierzchnia (m2): ', powierzchnia)\n",
    "                    print('cena (zł): ', cena)\n",
    "                    print('cena (zł/m2): ', cena_zl_m2)\n",
    "                    print('pietro: ', pietro)\n",
    "                    print('liczba_pokoi: ', liczba_pokoi[0])\n",
    "                    for klucz,wartosc in slownik.items():\n",
    "                        print(klucz,': ',wartosc)\n",
    "                    print('opis: ', opis)\n",
    "                    print(adres_www, '\\n')\n",
    "\n",
    "                    # zapisuję wyciągnięte dane do takiej postaci, abym mogła je dalej zapisać w Pandasie\n",
    "                    adresy.append(adres.strip())\n",
    "                    powierzchnie.append(powierzchnia)\n",
    "                    ceny.append(cena)\n",
    "                    ceny_zlm2.append(cena_zl_m2)\n",
    "                    pietra.append(pietro)\n",
    "                    pokoje.append(liczba_pokoi[0])\n",
    "                    opisy.append(opis)\n",
    "                    dodatkowe.append(slownik)\n"
   ]
  },
  {
   "cell_type": "markdown",
   "metadata": {},
   "source": [
    "### Obróbka  danych - Pandas"
   ]
  },
  {
   "cell_type": "code",
   "execution_count": 70,
   "metadata": {
    "scrolled": true
   },
   "outputs": [
    {
     "name": "stderr",
     "output_type": "stream",
     "text": [
      "/home/kinga/anaconda3/lib/python3.6/site-packages/ipykernel_launcher.py:6: FutureWarning: Sorting because non-concatenation axis is not aligned. A future version\n",
      "of pandas will change to not sort by default.\n",
      "\n",
      "To accept the future behavior, pass 'sort=True'.\n",
      "\n",
      "To retain the current behavior and silence the warning, pass sort=False\n",
      "\n",
      "  \n"
     ]
    }
   ],
   "source": [
    "oferty=pd.DataFrame()\n",
    "for x in range(0,len(adresy)):\n",
    "    sr=pd.Series([adresy[x],powierzchnie[x],ceny[x],ceny_zlm2[x], pietra[x],pokoje[x], opisy[x] ],\\\n",
    "                 index=['adres','powierzchnia (m2)','cena (zł)','Cena (zł/m2)', 'pietro', 'liczba_pokoi', 'opis'])\n",
    "    sr_dodatkowe=pd.Series(dodatkowe[x])\n",
    "    sr=pd.concat([sr,sr_dodatkowe])\n",
    "    oferty=pd.concat([oferty,sr],axis=1,ignore_index=True)"
   ]
  },
  {
   "cell_type": "code",
   "execution_count": 71,
   "metadata": {},
   "outputs": [
    {
     "data": {
      "text/plain": [
       "Index(['Cena (zł/m2)', 'Forma własności', 'Okna', 'Rodzaj zabudowy',\n",
       "       'Rok budowy', 'Rynek', 'adres', 'cena (zł)', 'liczba_pokoi', 'opis',\n",
       "       'pietro', 'powierzchnia (m2)'],\n",
       "      dtype='object')"
      ]
     },
     "execution_count": 71,
     "metadata": {},
     "output_type": "execute_result"
    }
   ],
   "source": [
    "oferty.index"
   ]
  },
  {
   "cell_type": "code",
   "execution_count": 72,
   "metadata": {},
   "outputs": [],
   "source": [
    "oferty=oferty.T"
   ]
  },
  {
   "cell_type": "code",
   "execution_count": 73,
   "metadata": {
    "scrolled": true
   },
   "outputs": [
    {
     "data": {
      "text/html": [
       "<div>\n",
       "<style scoped>\n",
       "    .dataframe tbody tr th:only-of-type {\n",
       "        vertical-align: middle;\n",
       "    }\n",
       "\n",
       "    .dataframe tbody tr th {\n",
       "        vertical-align: top;\n",
       "    }\n",
       "\n",
       "    .dataframe thead th {\n",
       "        text-align: right;\n",
       "    }\n",
       "</style>\n",
       "<table border=\"1\" class=\"dataframe\">\n",
       "  <thead>\n",
       "    <tr style=\"text-align: right;\">\n",
       "      <th></th>\n",
       "      <th>Cena (zł/m2)</th>\n",
       "      <th>Forma własności</th>\n",
       "      <th>Okna</th>\n",
       "      <th>Rodzaj zabudowy</th>\n",
       "      <th>Rok budowy</th>\n",
       "      <th>Rynek</th>\n",
       "      <th>adres</th>\n",
       "      <th>cena (zł)</th>\n",
       "      <th>liczba_pokoi</th>\n",
       "      <th>opis</th>\n",
       "      <th>pietro</th>\n",
       "      <th>powierzchnia (m2)</th>\n",
       "    </tr>\n",
       "  </thead>\n",
       "  <tbody>\n",
       "    <tr>\n",
       "      <th>0</th>\n",
       "      <td>5749.99</td>\n",
       "      <td>pełna własność</td>\n",
       "      <td>plastikowe</td>\n",
       "      <td>apartamentowiec</td>\n",
       "      <td>2019</td>\n",
       "      <td>pierwotny</td>\n",
       "      <td>Mieszkanie na sprzedaż, małopolskie, wielicki,...</td>\n",
       "      <td>201422</td>\n",
       "      <td>2</td>\n",
       "      <td>\\nKAMERALNE OSIEDLE PRZY PARKU Z DOSKONAŁYM DO...</td>\n",
       "      <td>Piętro 3 (z 4)</td>\n",
       "      <td>35.03</td>\n",
       "    </tr>\n",
       "    <tr>\n",
       "      <th>1</th>\n",
       "      <td>5549.99</td>\n",
       "      <td>pełna własność</td>\n",
       "      <td>plastikowe</td>\n",
       "      <td>apartamentowiec</td>\n",
       "      <td>2020</td>\n",
       "      <td>pierwotny</td>\n",
       "      <td>Mieszkanie na sprzedaż, małopolskie, wielicki,...</td>\n",
       "      <td>212731</td>\n",
       "      <td>2</td>\n",
       "      <td>\\nKAMERALNE OSIEDLE PRZY PARKU Z DOSKONAŁYM DO...</td>\n",
       "      <td>Piętro parter (z 4)</td>\n",
       "      <td>38.33</td>\n",
       "    </tr>\n",
       "    <tr>\n",
       "      <th>2</th>\n",
       "      <td>5300</td>\n",
       "      <td>pełna własność</td>\n",
       "      <td>NaN</td>\n",
       "      <td>NaN</td>\n",
       "      <td>2018</td>\n",
       "      <td>pierwotny</td>\n",
       "      <td>Mieszkanie na sprzedaż, małopolskie, wielicki,...</td>\n",
       "      <td>178504</td>\n",
       "      <td>2</td>\n",
       "      <td>\\n0% PROWIZJI !!!OPIS MIESZKANIA:- Salon z ane...</td>\n",
       "      <td>Piętro 3 (z 5)</td>\n",
       "      <td>33.68</td>\n",
       "    </tr>\n",
       "    <tr>\n",
       "      <th>3</th>\n",
       "      <td>5300</td>\n",
       "      <td>pełna własność</td>\n",
       "      <td>NaN</td>\n",
       "      <td>NaN</td>\n",
       "      <td>2018</td>\n",
       "      <td>pierwotny</td>\n",
       "      <td>Mieszkanie na sprzedaż, małopolskie, wielicki,...</td>\n",
       "      <td>178504</td>\n",
       "      <td>2</td>\n",
       "      <td>\\n0% PROWIZJI !!!!!!!!!!!!!!!!OPIS MIESZKANIA:...</td>\n",
       "      <td>Piętro 3 (z 5)</td>\n",
       "      <td>33.68</td>\n",
       "    </tr>\n",
       "  </tbody>\n",
       "</table>\n",
       "</div>"
      ],
      "text/plain": [
       "  Cena (zł/m2)  Forma własności         Okna   Rodzaj zabudowy Rok budowy  \\\n",
       "0      5749.99   pełna własność   plastikowe   apartamentowiec      2019    \n",
       "1      5549.99   pełna własność   plastikowe   apartamentowiec      2020    \n",
       "2         5300   pełna własność          NaN               NaN      2018    \n",
       "3         5300   pełna własność          NaN               NaN      2018    \n",
       "\n",
       "        Rynek                                              adres cena (zł)  \\\n",
       "0   pierwotny  Mieszkanie na sprzedaż, małopolskie, wielicki,...    201422   \n",
       "1   pierwotny  Mieszkanie na sprzedaż, małopolskie, wielicki,...    212731   \n",
       "2   pierwotny  Mieszkanie na sprzedaż, małopolskie, wielicki,...    178504   \n",
       "3   pierwotny  Mieszkanie na sprzedaż, małopolskie, wielicki,...    178504   \n",
       "\n",
       "  liczba_pokoi                                               opis  \\\n",
       "0            2  \\nKAMERALNE OSIEDLE PRZY PARKU Z DOSKONAŁYM DO...   \n",
       "1            2  \\nKAMERALNE OSIEDLE PRZY PARKU Z DOSKONAŁYM DO...   \n",
       "2            2  \\n0% PROWIZJI !!!OPIS MIESZKANIA:- Salon z ane...   \n",
       "3            2  \\n0% PROWIZJI !!!!!!!!!!!!!!!!OPIS MIESZKANIA:...   \n",
       "\n",
       "                pietro powierzchnia (m2)  \n",
       "0       Piętro 3 (z 4)             35.03  \n",
       "1  Piętro parter (z 4)             38.33  \n",
       "2       Piętro 3 (z 5)             33.68  \n",
       "3       Piętro 3 (z 5)             33.68  "
      ]
     },
     "execution_count": 73,
     "metadata": {},
     "output_type": "execute_result"
    }
   ],
   "source": [
    "oferty"
   ]
  },
  {
   "cell_type": "code",
   "execution_count": 74,
   "metadata": {},
   "outputs": [],
   "source": [
    "kolejnosc_kolumn=['adres','Rynek','powierzchnia (m2)','cena (zł)','Cena (zł/m2)','Forma własności',\\\n",
    "'liczba_pokoi', 'pietro', 'Rodzaj zabudowy', 'Stan wykończenia', 'Czynsz', 'opis']"
   ]
  },
  {
   "cell_type": "code",
   "execution_count": 75,
   "metadata": {},
   "outputs": [],
   "source": [
    "# ustawiam kolumny w wybranej kolejności. \n",
    "#Jeśli nieruchomość nie posiada danych w zakresie określonej cechy, w odpowiedniej komórce pojawi się 'Nan'\n",
    "mieszkania_oferty=oferty.reindex(columns=kolejnosc_kolumn)"
   ]
  },
  {
   "cell_type": "code",
   "execution_count": 76,
   "metadata": {},
   "outputs": [
    {
     "data": {
      "text/html": [
       "<div>\n",
       "<style scoped>\n",
       "    .dataframe tbody tr th:only-of-type {\n",
       "        vertical-align: middle;\n",
       "    }\n",
       "\n",
       "    .dataframe tbody tr th {\n",
       "        vertical-align: top;\n",
       "    }\n",
       "\n",
       "    .dataframe thead th {\n",
       "        text-align: right;\n",
       "    }\n",
       "</style>\n",
       "<table border=\"1\" class=\"dataframe\">\n",
       "  <thead>\n",
       "    <tr style=\"text-align: right;\">\n",
       "      <th></th>\n",
       "      <th>adres</th>\n",
       "      <th>Rynek</th>\n",
       "      <th>powierzchnia (m2)</th>\n",
       "      <th>cena (zł)</th>\n",
       "      <th>Cena (zł/m2)</th>\n",
       "      <th>Forma własności</th>\n",
       "      <th>liczba_pokoi</th>\n",
       "      <th>pietro</th>\n",
       "      <th>Rodzaj zabudowy</th>\n",
       "      <th>Stan wykończenia</th>\n",
       "      <th>Czynsz</th>\n",
       "      <th>opis</th>\n",
       "    </tr>\n",
       "  </thead>\n",
       "  <tbody>\n",
       "    <tr>\n",
       "      <th>0</th>\n",
       "      <td>Mieszkanie na sprzedaż, małopolskie, wielicki,...</td>\n",
       "      <td>pierwotny</td>\n",
       "      <td>35.03</td>\n",
       "      <td>201422</td>\n",
       "      <td>5749.99</td>\n",
       "      <td>pełna własność</td>\n",
       "      <td>2</td>\n",
       "      <td>Piętro 3 (z 4)</td>\n",
       "      <td>apartamentowiec</td>\n",
       "      <td>NaN</td>\n",
       "      <td>NaN</td>\n",
       "      <td>\\nKAMERALNE OSIEDLE PRZY PARKU Z DOSKONAŁYM DO...</td>\n",
       "    </tr>\n",
       "    <tr>\n",
       "      <th>1</th>\n",
       "      <td>Mieszkanie na sprzedaż, małopolskie, wielicki,...</td>\n",
       "      <td>pierwotny</td>\n",
       "      <td>38.33</td>\n",
       "      <td>212731</td>\n",
       "      <td>5549.99</td>\n",
       "      <td>pełna własność</td>\n",
       "      <td>2</td>\n",
       "      <td>Piętro parter (z 4)</td>\n",
       "      <td>apartamentowiec</td>\n",
       "      <td>NaN</td>\n",
       "      <td>NaN</td>\n",
       "      <td>\\nKAMERALNE OSIEDLE PRZY PARKU Z DOSKONAŁYM DO...</td>\n",
       "    </tr>\n",
       "    <tr>\n",
       "      <th>2</th>\n",
       "      <td>Mieszkanie na sprzedaż, małopolskie, wielicki,...</td>\n",
       "      <td>pierwotny</td>\n",
       "      <td>33.68</td>\n",
       "      <td>178504</td>\n",
       "      <td>5300</td>\n",
       "      <td>pełna własność</td>\n",
       "      <td>2</td>\n",
       "      <td>Piętro 3 (z 5)</td>\n",
       "      <td>NaN</td>\n",
       "      <td>NaN</td>\n",
       "      <td>NaN</td>\n",
       "      <td>\\n0% PROWIZJI !!!OPIS MIESZKANIA:- Salon z ane...</td>\n",
       "    </tr>\n",
       "    <tr>\n",
       "      <th>3</th>\n",
       "      <td>Mieszkanie na sprzedaż, małopolskie, wielicki,...</td>\n",
       "      <td>pierwotny</td>\n",
       "      <td>33.68</td>\n",
       "      <td>178504</td>\n",
       "      <td>5300</td>\n",
       "      <td>pełna własność</td>\n",
       "      <td>2</td>\n",
       "      <td>Piętro 3 (z 5)</td>\n",
       "      <td>NaN</td>\n",
       "      <td>NaN</td>\n",
       "      <td>NaN</td>\n",
       "      <td>\\n0% PROWIZJI !!!!!!!!!!!!!!!!OPIS MIESZKANIA:...</td>\n",
       "    </tr>\n",
       "  </tbody>\n",
       "</table>\n",
       "</div>"
      ],
      "text/plain": [
       "                                               adres       Rynek  \\\n",
       "0  Mieszkanie na sprzedaż, małopolskie, wielicki,...   pierwotny   \n",
       "1  Mieszkanie na sprzedaż, małopolskie, wielicki,...   pierwotny   \n",
       "2  Mieszkanie na sprzedaż, małopolskie, wielicki,...   pierwotny   \n",
       "3  Mieszkanie na sprzedaż, małopolskie, wielicki,...   pierwotny   \n",
       "\n",
       "  powierzchnia (m2) cena (zł) Cena (zł/m2)  Forma własności liczba_pokoi  \\\n",
       "0             35.03    201422      5749.99   pełna własność            2   \n",
       "1             38.33    212731      5549.99   pełna własność            2   \n",
       "2             33.68    178504         5300   pełna własność            2   \n",
       "3             33.68    178504         5300   pełna własność            2   \n",
       "\n",
       "                pietro   Rodzaj zabudowy  Stan wykończenia  Czynsz  \\\n",
       "0       Piętro 3 (z 4)   apartamentowiec               NaN     NaN   \n",
       "1  Piętro parter (z 4)   apartamentowiec               NaN     NaN   \n",
       "2       Piętro 3 (z 5)               NaN               NaN     NaN   \n",
       "3       Piętro 3 (z 5)               NaN               NaN     NaN   \n",
       "\n",
       "                                                opis  \n",
       "0  \\nKAMERALNE OSIEDLE PRZY PARKU Z DOSKONAŁYM DO...  \n",
       "1  \\nKAMERALNE OSIEDLE PRZY PARKU Z DOSKONAŁYM DO...  \n",
       "2  \\n0% PROWIZJI !!!OPIS MIESZKANIA:- Salon z ane...  \n",
       "3  \\n0% PROWIZJI !!!!!!!!!!!!!!!!OPIS MIESZKANIA:...  "
      ]
     },
     "execution_count": 76,
     "metadata": {},
     "output_type": "execute_result"
    }
   ],
   "source": [
    "mieszkania_oferty"
   ]
  },
  {
   "cell_type": "code",
   "execution_count": 79,
   "metadata": {
    "scrolled": false
   },
   "outputs": [
    {
     "data": {
      "text/html": [
       "<div>\n",
       "<style scoped>\n",
       "    .dataframe tbody tr th:only-of-type {\n",
       "        vertical-align: middle;\n",
       "    }\n",
       "\n",
       "    .dataframe tbody tr th {\n",
       "        vertical-align: top;\n",
       "    }\n",
       "\n",
       "    .dataframe thead th {\n",
       "        text-align: right;\n",
       "    }\n",
       "</style>\n",
       "<table border=\"1\" class=\"dataframe\">\n",
       "  <thead>\n",
       "    <tr style=\"text-align: right;\">\n",
       "      <th></th>\n",
       "      <th>adres</th>\n",
       "      <th>Rynek</th>\n",
       "      <th>powierzchnia (m2)</th>\n",
       "      <th>cena (zł)</th>\n",
       "      <th>Cena (zł/m2)</th>\n",
       "      <th>Forma własności</th>\n",
       "      <th>liczba_pokoi</th>\n",
       "      <th>pietro</th>\n",
       "      <th>Rodzaj zabudowy</th>\n",
       "      <th>Stan wykończenia</th>\n",
       "      <th>Czynsz</th>\n",
       "      <th>opis</th>\n",
       "    </tr>\n",
       "  </thead>\n",
       "  <tbody>\n",
       "    <tr>\n",
       "      <th>0</th>\n",
       "      <td>Mieszkanie na sprzedaż, małopolskie, wielicki,...</td>\n",
       "      <td>pierwotny</td>\n",
       "      <td>35.03</td>\n",
       "      <td>201422</td>\n",
       "      <td>5749.99</td>\n",
       "      <td>pełna własność</td>\n",
       "      <td>2</td>\n",
       "      <td>3 (z 4)</td>\n",
       "      <td>apartamentowiec</td>\n",
       "      <td>NaN</td>\n",
       "      <td>NaN</td>\n",
       "      <td>\\nKAMERALNE OSIEDLE PRZY PARKU Z DOSKONAŁYM DO...</td>\n",
       "    </tr>\n",
       "    <tr>\n",
       "      <th>1</th>\n",
       "      <td>Mieszkanie na sprzedaż, małopolskie, wielicki,...</td>\n",
       "      <td>pierwotny</td>\n",
       "      <td>38.33</td>\n",
       "      <td>212731</td>\n",
       "      <td>5549.99</td>\n",
       "      <td>pełna własność</td>\n",
       "      <td>2</td>\n",
       "      <td>parter (z 4)</td>\n",
       "      <td>apartamentowiec</td>\n",
       "      <td>NaN</td>\n",
       "      <td>NaN</td>\n",
       "      <td>\\nKAMERALNE OSIEDLE PRZY PARKU Z DOSKONAŁYM DO...</td>\n",
       "    </tr>\n",
       "    <tr>\n",
       "      <th>2</th>\n",
       "      <td>Mieszkanie na sprzedaż, małopolskie, wielicki,...</td>\n",
       "      <td>pierwotny</td>\n",
       "      <td>33.68</td>\n",
       "      <td>178504</td>\n",
       "      <td>5300</td>\n",
       "      <td>pełna własność</td>\n",
       "      <td>2</td>\n",
       "      <td>3 (z 5)</td>\n",
       "      <td>NaN</td>\n",
       "      <td>NaN</td>\n",
       "      <td>NaN</td>\n",
       "      <td>\\n0% PROWIZJI !!!OPIS MIESZKANIA:- Salon z ane...</td>\n",
       "    </tr>\n",
       "  </tbody>\n",
       "</table>\n",
       "</div>"
      ],
      "text/plain": [
       "                                               adres       Rynek  \\\n",
       "0  Mieszkanie na sprzedaż, małopolskie, wielicki,...   pierwotny   \n",
       "1  Mieszkanie na sprzedaż, małopolskie, wielicki,...   pierwotny   \n",
       "2  Mieszkanie na sprzedaż, małopolskie, wielicki,...   pierwotny   \n",
       "\n",
       "  powierzchnia (m2) cena (zł) Cena (zł/m2)  Forma własności liczba_pokoi  \\\n",
       "0             35.03    201422      5749.99   pełna własność            2   \n",
       "1             38.33    212731      5549.99   pełna własność            2   \n",
       "2             33.68    178504         5300   pełna własność            2   \n",
       "\n",
       "          pietro   Rodzaj zabudowy  Stan wykończenia  Czynsz  \\\n",
       "0        3 (z 4)   apartamentowiec               NaN     NaN   \n",
       "1   parter (z 4)   apartamentowiec               NaN     NaN   \n",
       "2        3 (z 5)               NaN               NaN     NaN   \n",
       "\n",
       "                                                opis  \n",
       "0  \\nKAMERALNE OSIEDLE PRZY PARKU Z DOSKONAŁYM DO...  \n",
       "1  \\nKAMERALNE OSIEDLE PRZY PARKU Z DOSKONAŁYM DO...  \n",
       "2  \\n0% PROWIZJI !!!OPIS MIESZKANIA:- Salon z ane...  "
      ]
     },
     "execution_count": 79,
     "metadata": {},
     "output_type": "execute_result"
    }
   ],
   "source": [
    "# usuwam duplikaty\n",
    "mieszkania_oferty.drop_duplicates(subset=['powierzchnia (m2)', 'cena (zł)','pietro','liczba_pokoi' ])"
   ]
  },
  {
   "cell_type": "code",
   "execution_count": 80,
   "metadata": {},
   "outputs": [],
   "source": [
    "#usuwam wyraz'Piętro' z kolumny 'pietro'\n",
    "mieszkania_oferty['pietro']=mieszkania_oferty['pietro'].apply(lambda x: x.replace('Piętro',''))"
   ]
  },
  {
   "cell_type": "code",
   "execution_count": 82,
   "metadata": {
    "scrolled": true
   },
   "outputs": [],
   "source": [
    "# usuwam 'escape characters' z kolumny 'opis'\n",
    "mieszkania_oferty.loc[:,'opis'] = mieszkania_oferty.opis.str.replace('\\n','',regex=True)"
   ]
  },
  {
   "cell_type": "code",
   "execution_count": null,
   "metadata": {},
   "outputs": [],
   "source": [
    "mieszkania.to_csv(r'/home/kinga/python/Web_scrapping/mieszkania_oferty.csv')"
   ]
  },
  {
   "cell_type": "markdown",
   "metadata": {},
   "source": [
    "### 3b. Kod, który automatycznie  pobiera dane ze wszystkich stron zwróconych przez Otodom"
   ]
  },
  {
   "cell_type": "code",
   "execution_count": null,
   "metadata": {
    "scrolled": true
   },
   "outputs": [],
   "source": [
    "\n",
    "strona=input('Wpisz adres strony internetowej: ')\n",
    "strony=[strona]\n",
    "page=requests.get(strona)\n",
    "soup=BeautifulSoup(page.content, 'html.parser')\n",
    "\n",
    "cala_strona=soup.find(class_='col-md-content section-listing__row-content') # dane całej strony\n",
    "wiersz_dot_stron=cala_strona.find_all(class_='pager') # w tym jest klasa 'page-counter' i 'page_next'\n",
    "\n",
    "przycisk_przewijania_stron=cala_strona.find_all(class_='pager-next')\n",
    "\n",
    "\n",
    "for item in wiersz_dot_stron: # sprawdzam, ile stron z ogłoszeniami zostało znalezionych wg.wybranych kryteriów\n",
    "    liczba_str=item.find(class_='current').get_text()\n",
    "    print ('liczba stron: ', liczba_str)\n",
    "\n",
    "\n"
   ]
  },
  {
   "cell_type": "code",
   "execution_count": null,
   "metadata": {
    "scrolled": true
   },
   "outputs": [],
   "source": [
    "#i=1\n",
    "for i in range(1,int(liczba_str)+1):\n",
    "         \n",
    "        strony.append(strona +'&page=' + str(i))  # każda kolejna strona ma końcówkę '&page=(nr_str)' w stosunku do strony pierwszej, poczynając od '&page=2' "
   ]
  },
  {
   "cell_type": "code",
   "execution_count": null,
   "metadata": {},
   "outputs": [],
   "source": [
    "print ('strony: ', strony)"
   ]
  },
  {
   "cell_type": "code",
   "execution_count": null,
   "metadata": {},
   "outputs": [],
   "source": [
    "adresy=[]\n",
    "powierzchnie=[]\n",
    "ceny=[]\n",
    "ceny_zlm2=[]\n",
    "pietra=[]\n",
    "pokoje=[]\n",
    "dodatkowe=[]\n",
    "opisy=[]\n",
    "\n",
    "    \n",
    "for item in strony:\n",
    "    zawartosc = requests.get(item)\n",
    "    soup=BeautifulSoup(zawartosc.content, 'html.parser')\n",
    "    \n",
    "    wszystkie_oferty = soup.find(class_='col-md-content section-listing__row-content') ### klasa, w ktorej są wszystskie oferty\n",
    "    wszystkie_oferty_items = wszystkie_oferty.find_all(class_=\"offer-item-details\")## klasa, w której są szczegóły poszczególnych ofert\n",
    "\n",
    "    \n",
    "    for item in wszystkie_oferty_items:\n",
    "        strony_www=item.find_all('a')\n",
    "        for item in strony_www:\n",
    "            adres_www=item.get('href') ## pobieram link do każdej oferty\n",
    "            zawartosc2=requests.get(adres_www)\n",
    "            soup2=BeautifulSoup(zawartosc2.content, 'html.parser')\n",
    "            szczegoly=soup2.find_all(class_='article-offer')\n",
    "            for item in szczegoly:       \n",
    "                adres=item.find(class_='address-lane').get_text()\n",
    "                powierzchnia=item.find(class_='big').get_text()\n",
    "                cena=item.find(class_=\"box-price-value\").get_text()\n",
    "                try:# piętro nie zawsze jest podane w ofercie i wówczas zwraca błąd. Aby uniknąć zatrzymania kodu, wprowadziłam try \n",
    "                    pietro=item.find(class_='param_floor_no').get_text()\n",
    "                except AttributeError:\n",
    "                    pietro='brak informacji'\n",
    "                liczba_pokoi=item.find(class_='room-lane').get_text()\n",
    "                opis=item.find(itemprop='description').get_text()\n",
    "                dodatkowe_parametry=soup2.find_all(class_='sub-list')\n",
    "                slownik={}\n",
    "                for item in dodatkowe_parametry: \n",
    "                    wszystko=item.find_all('li')\n",
    "                    for e in wszystko:\n",
    "                        klucz,wartosc=e.text.split(':')\n",
    "                        slownik[klucz]=wartosc\n",
    "                      \n",
    "                \n",
    "\n",
    "                    powierzchnia=zmiana_na_float(powierzchnia)   \n",
    "                    cena=zmiana_na_float(cena.strip())\n",
    "                    cena_zl_m2=round(cena/powierzchnia,2)\n",
    "                    liczba_pokoi=[int(s) for s in liczba_pokoi.split() if s.isdigit()]\n",
    "                    \n",
    "\n",
    "                    print('adres: ', adres.strip())# strip rozdziela ciąg znaków i zwraca listę \n",
    "                    print('powierzchnia (m2): ', powierzchnia)\n",
    "                    print('cena (zł): ', cena)\n",
    "                    print('cena (zł/m2): ', cena_zl_m2)\n",
    "                    print('pietro: ', pietro)\n",
    "                    print('liczba_pokoi: ', liczba_pokoi[0])\n",
    "                    for klucz,wartosc in slownik.items():\n",
    "                        print(klucz,': ',wartosc)\n",
    "                    print('opis: ', opis)\n",
    "                    print(adres_www, '\\n')\n",
    "\n",
    "                    # zapisuję wyciągnięte dane do takiej postaci, abym mogła je dalej zapisać w Pandasie\n",
    "                    adresy.append(adres.strip())\n",
    "                    powierzchnie.append(powierzchnia)\n",
    "                    ceny.append(cena)\n",
    "                    ceny_zlm2.append(cena_zl_m2)\n",
    "                    pietra.append(pietro)\n",
    "                    pokoje.append(liczba_pokoi[0])\n",
    "                    opisy.append(opis)\n",
    "                    dodatkowe.append(slownik)\n"
   ]
  },
  {
   "cell_type": "code",
   "execution_count": null,
   "metadata": {},
   "outputs": [],
   "source": []
  },
  {
   "cell_type": "code",
   "execution_count": null,
   "metadata": {},
   "outputs": [],
   "source": []
  },
  {
   "cell_type": "code",
   "execution_count": null,
   "metadata": {},
   "outputs": [],
   "source": []
  }
 ],
 "metadata": {
  "kernelspec": {
   "display_name": "Python 3",
   "language": "python",
   "name": "python3"
  },
  "language_info": {
   "codemirror_mode": {
    "name": "ipython",
    "version": 3
   },
   "file_extension": ".py",
   "mimetype": "text/x-python",
   "name": "python",
   "nbconvert_exporter": "python",
   "pygments_lexer": "ipython3",
   "version": "3.6.5"
  }
 },
 "nbformat": 4,
 "nbformat_minor": 2
}
